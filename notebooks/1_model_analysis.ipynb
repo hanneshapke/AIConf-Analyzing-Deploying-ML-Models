{
 "cells": [
  {
   "cell_type": "markdown",
   "metadata": {},
   "source": [
    "# Analyzing your model with TensorFlow Model Analysis and the What-If Tool"
   ]
  },
  {
   "cell_type": "markdown",
   "metadata": {},
   "source": [
    "- describe the model here\n",
    "- what is the dataset https://www.kaggle.com/cfpb/us-consumer-finance-complaints\n",
    "- what is the model architecture\n",
    "- how is it saved\n",
    "- what are the required files"
   ]
  },
  {
   "cell_type": "code",
   "execution_count": 3,
   "metadata": {},
   "outputs": [],
   "source": [
    "import tensorflow_model_analysis as tfma\n",
    "import tensorflow as tf\n",
    "\n",
    "# stop tf warnings going everywhere\n",
    "import logging\n",
    "logger = tf.get_logger()\n",
    "logger.setLevel(logging.ERROR)"
   ]
  },
  {
   "cell_type": "code",
   "execution_count": 5,
   "metadata": {},
   "outputs": [],
   "source": [
    "# model produced by TFX 0.21.1 (install from head at this time)\n",
    "# 28Feb pipeline\n",
    "_EVAL_DATA_FILE = '../models/data_tfrecord-00000-of-00001'\n",
    "_MODEL_DIR = '../models/serving_model_dir/'"
   ]
  },
  {
   "cell_type": "markdown",
   "metadata": {},
   "source": [
    "Convert the model into the required format for TFMA"
   ]
  },
  {
   "cell_type": "code",
   "execution_count": 3,
   "metadata": {},
   "outputs": [],
   "source": [
    "eval_shared_model = tfma.default_eval_shared_model(\n",
    "    eval_saved_model_path=_MODEL_DIR, tags=[tf.saved_model.SERVING])"
   ]
  },
  {
   "cell_type": "code",
   "execution_count": 4,
   "metadata": {},
   "outputs": [],
   "source": [
    "slices = [tfma.slicer.SingleSliceSpec()]"
   ]
  },
  {
   "cell_type": "code",
   "execution_count": 5,
   "metadata": {},
   "outputs": [
    {
     "name": "stderr",
     "output_type": "stream",
     "text": [
      "WARNING:root:Couldn't find python-snappy so the implementation of _TFRecordUtil._masked_crc32c is not as fast as it could be.\n"
     ]
    }
   ],
   "source": [
    "# this takes a minute\n",
    "# https://www.tensorflow.org/tfx/model_analysis/metrics\n",
    "tfma_result = tfma.run_model_analysis(eval_shared_model=eval_shared_model,\n",
    "                                        data_location=_EVAL_DATA_FILE,\n",
    "                                      eval_config=tfma.EvalConfig(\n",
    "        model_specs=[tfma.ModelSpec(label_key='consumer_disputed')],\n",
    "        slicing_specs=[tfma.SlicingSpec(), tfma.SlicingSpec(feature_keys=['product'])],\n",
    "        #metrics_specs=tfma.metrics.default_binary_classification_specs()\n",
    "        metrics_specs=[\n",
    "              tfma.MetricsSpec(metrics=[\n",
    "                  tfma.MetricConfig(class_name='BinaryAccuracy'),\n",
    "                  tfma.MetricConfig(class_name='ExampleCount'),\n",
    "                  tfma.MetricConfig(class_name='FalsePositives'),\n",
    "                  tfma.MetricConfig(class_name='TruePositives'),\n",
    "                  tfma.MetricConfig(class_name='FalseNegatives'),\n",
    "                  tfma.MetricConfig(class_name='TrueNegatives')\n",
    "\n",
    "\n",
    "\n",
    "        ])]\n",
    "        ),\n",
    "                                        file_format='tfrecords', \n",
    "                                        slice_spec = slices)"
   ]
  },
  {
   "cell_type": "code",
   "execution_count": 6,
   "metadata": {},
   "outputs": [
    {
     "data": {
      "application/vnd.jupyter.widget-view+json": {
       "model_id": "7209dad49f894c9bb6e068db6797a07e",
       "version_major": 2,
       "version_minor": 0
      },
      "text/plain": [
       "SlicingMetricsViewer(config={'weightedExamplesColumn': 'example_count'}, data=[{'slice': 'Overall', 'metrics':…"
      ]
     },
     "metadata": {},
     "output_type": "display_data"
    }
   ],
   "source": [
    "tfma.view.render_slicing_metrics(tfma_result)"
   ]
  },
  {
   "cell_type": "markdown",
   "metadata": {},
   "source": [
    "Exercise: \n",
    "\n",
    "- add in a new metric (e.g. precision, recall)\n",
    "- read the docs to find available metrics \n",
    "- keras metrics: https://www.tensorflow.org/api_docs/python/tf/keras/metrics\n",
    "\n",
    "ref: https://github.com/tensorflow/model-analysis/blob/9ae6408424f80adf83233f45c2e4d7ba6b86bf06/tensorflow_model_analysis/metrics/metric_specs.py"
   ]
  },
  {
   "cell_type": "markdown",
   "metadata": {},
   "source": [
    "stretch goal - model performance through time as in here: https://github.com/tensorflow/workshops/blob/master/tfx_labs/Lab_6_Model_Analysis.ipynb"
   ]
  },
  {
   "cell_type": "markdown",
   "metadata": {},
   "source": [
    "## Model fairness 1 - slicing the data"
   ]
  },
  {
   "cell_type": "code",
   "execution_count": 7,
   "metadata": {},
   "outputs": [],
   "source": [
    "slices = [tfma.slicer.SingleSliceSpec(),\n",
    "          tfma.slicer.SingleSliceSpec(columns=['product'])]"
   ]
  },
  {
   "cell_type": "code",
   "execution_count": 8,
   "metadata": {},
   "outputs": [],
   "source": [
    "# repeated code - turn into a function\n",
    "tfma_result = tfma.run_model_analysis(eval_shared_model=eval_shared_model,\n",
    "                                        data_location=_EVAL_DATA_FILE,\n",
    "                                      eval_config=tfma.EvalConfig(\n",
    "        model_specs=[tfma.ModelSpec(label_key='consumer_disputed')],\n",
    "        slicing_specs=[tfma.SlicingSpec(), tfma.SlicingSpec(feature_keys=['product'])],\n",
    "        #metrics_specs=tfma.metrics.default_binary_classification_specs()\n",
    "        metrics_specs=[\n",
    "              tfma.MetricsSpec(metrics=[\n",
    "                  tfma.MetricConfig(class_name='BinaryAccuracy'),\n",
    "                  tfma.MetricConfig(class_name='ExampleCount'),\n",
    "                  tfma.MetricConfig(class_name='FalsePositives'),\n",
    "                  tfma.MetricConfig(class_name='TruePositives'),\n",
    "                  tfma.MetricConfig(class_name='FalseNegatives'),\n",
    "                  tfma.MetricConfig(class_name='TrueNegatives')\n",
    "\n",
    "\n",
    "\n",
    "        ])]\n",
    "        ),\n",
    "                                        file_format='tfrecords', \n",
    "                                        slice_spec = slices)"
   ]
  },
  {
   "cell_type": "code",
   "execution_count": 11,
   "metadata": {},
   "outputs": [
    {
     "data": {
      "application/vnd.jupyter.widget-view+json": {
       "model_id": "935d05398a10442eb1d21b79ebacce5c",
       "version_major": 2,
       "version_minor": 0
      },
      "text/plain": [
       "SlicingMetricsViewer(config={'weightedExamplesColumn': 'example_count'}, data=[{'slice': 'product:Mortgage', '…"
      ]
     },
     "metadata": {},
     "output_type": "display_data"
    }
   ],
   "source": [
    "tfma.view.render_slicing_metrics(tfma_result, slicing_spec=slices[1])"
   ]
  },
  {
   "cell_type": "markdown",
   "metadata": {},
   "source": [
    "Exercise:\n",
    "\n",
    "- add in a new slicing column (ref data sample)"
   ]
  },
  {
   "cell_type": "markdown",
   "metadata": {},
   "source": [
    "## Model fairness 2 - the What-If Tool"
   ]
  },
  {
   "cell_type": "code",
   "execution_count": 1,
   "metadata": {},
   "outputs": [],
   "source": [
    "from witwidget.notebook.visualization import WitConfigBuilder\n",
    "from witwidget.notebook.visualization import WitWidget"
   ]
  },
  {
   "cell_type": "code",
   "execution_count": 6,
   "metadata": {},
   "outputs": [],
   "source": [
    "eval_data = tf.data.TFRecordDataset(_EVAL_DATA_FILE)"
   ]
  },
  {
   "cell_type": "code",
   "execution_count": 7,
   "metadata": {},
   "outputs": [],
   "source": [
    "eval_examples = [tf.train.Example.FromString(d.numpy()) for d in eval_data.take(1000)]"
   ]
  },
  {
   "cell_type": "code",
   "execution_count": 8,
   "metadata": {},
   "outputs": [],
   "source": [
    "model = tf.saved_model.load(export_dir=_MODEL_DIR)"
   ]
  },
  {
   "cell_type": "code",
   "execution_count": 9,
   "metadata": {},
   "outputs": [],
   "source": [
    "def predict(examples):\n",
    "    preds = model.signatures['serving_default'](examples=tf.constant([example.SerializeToString() for example in examples]))\n",
    "    return preds['outputs'].numpy()"
   ]
  },
  {
   "cell_type": "code",
   "execution_count": 10,
   "metadata": {},
   "outputs": [],
   "source": [
    "config_builder = WitConfigBuilder(eval_examples).set_custom_predict_fn(predict)"
   ]
  },
  {
   "cell_type": "code",
   "execution_count": 11,
   "metadata": {
    "scrolled": true
   },
   "outputs": [
    {
     "data": {
      "text/html": [
       "<style>.container { width:100% !important; }</style>"
      ],
      "text/plain": [
       "<IPython.core.display.HTML object>"
      ]
     },
     "metadata": {},
     "output_type": "display_data"
    },
    {
     "data": {
      "application/vnd.jupyter.widget-view+json": {
       "model_id": "a90c5b7d43c84f4cbd4f3735307c4737",
       "version_major": 2,
       "version_minor": 0
      },
      "text/plain": [
       "WitWidget(config={'model_type': 'classification', 'label_vocab': [], 'are_sequence_examples': False, 'inferenc…"
      ]
     },
     "metadata": {},
     "output_type": "display_data"
    }
   ],
   "source": [
    "WitWidget(config_builder)"
   ]
  },
  {
   "cell_type": "markdown",
   "metadata": {},
   "source": [
    " Exercise:\n",
    " \n",
    " - explore the WIT"
   ]
  },
  {
   "cell_type": "markdown",
   "metadata": {},
   "source": [
    "### Debugging"
   ]
  },
  {
   "cell_type": "code",
   "execution_count": 5,
   "metadata": {},
   "outputs": [
    {
     "name": "stdout",
     "output_type": "stream",
     "text": [
      "Name: tensorflow\n",
      "Version: 2.1.0\n",
      "Summary: TensorFlow is an open source machine learning framework for everyone.\n",
      "Home-page: https://www.tensorflow.org/\n",
      "Author: Google Inc.\n",
      "Author-email: packages@tensorflow.org\n",
      "License: Apache 2.0\n",
      "Location: /Users/i854694/.virtualenvs/aiconf/lib/python3.7/site-packages\n",
      "Requires: absl-py, opt-einsum, termcolor, wheel, keras-applications, tensorboard, protobuf, google-pasta, astor, keras-preprocessing, gast, six, numpy, grpcio, tensorflow-estimator, scipy, wrapt\n",
      "Required-by: witwidget, tfx-bsl, tensorflow-serving-api, tensorflow-model-analysis\n"
     ]
    }
   ],
   "source": [
    "# works with 2.1\n",
    "!pip show tensorflow"
   ]
  },
  {
   "cell_type": "code",
   "execution_count": 6,
   "metadata": {},
   "outputs": [
    {
     "name": "stdout",
     "output_type": "stream",
     "text": [
      "Name: tensorflow-model-analysis\n",
      "Version: 0.21.3\n",
      "Summary: A library for analyzing TensorFlow models\n",
      "Home-page: https://www.tensorflow.org/tfx/model_analysis\n",
      "Author: Google LLC\n",
      "Author-email: tensorflow-extended-dev@googlegroups.com\n",
      "License: Apache 2.0\n",
      "Location: /Users/i854694/.virtualenvs/aiconf/lib/python3.7/site-packages\n",
      "Requires: scipy, avro-python3, absl-py, tensorflow, apache-beam, jupyter, tensorflow-metadata, numpy, tfx-bsl, ipywidgets, six, protobuf\n",
      "Required-by: \n"
     ]
    }
   ],
   "source": [
    "# works with 0.21.3\n",
    "!pip show tensorflow_model_analysis"
   ]
  },
  {
   "cell_type": "code",
   "execution_count": 13,
   "metadata": {},
   "outputs": [
    {
     "name": "stdout",
     "output_type": "stream",
     "text": [
      "Name: witwidget\r\n",
      "Version: 1.6.0\r\n",
      "Summary: What-If Tool jupyter widget\r\n",
      "Home-page: https://github.com/pair-code/what-if-tool\r\n",
      "Author: Google Inc.\r\n",
      "Author-email: packages@tensorflow.org\r\n",
      "License: Apache 2.0\r\n",
      "Location: /Users/i854694/.virtualenvs/aiconf/lib/python3.7/site-packages\r\n",
      "Requires: tensorflow, ipywidgets, six, google-api-python-client, absl-py, jupyter, oauth2client\r\n",
      "Required-by: \r\n"
     ]
    }
   ],
   "source": [
    "# works with 1.6.0\n",
    "!pip show witwidget"
   ]
  },
  {
   "cell_type": "code",
   "execution_count": 12,
   "metadata": {},
   "outputs": [
    {
     "name": "stdout",
     "output_type": "stream",
     "text": [
      "Installing /Users/i854694/.virtualenvs/aiconf/lib/python3.7/site-packages/witwidget/static -> wit-widget\n",
      "- Validating: \u001b[32mOK\u001b[0m\n",
      "\n",
      "    To initialize this nbextension in the browser every time the notebook (or other app) loads:\n",
      "    \n",
      "          jupyter nbextension enable witwidget --py --sys-prefix\n",
      "    \n",
      "Enabling notebook extension wit-widget/extension...\n",
      "      - Validating: \u001b[32mOK\u001b[0m\n"
     ]
    }
   ],
   "source": [
    "# may need to run this every time\n",
    "!jupyter nbextension install --py --symlink --sys-prefix witwidget\n",
    "!jupyter nbextension enable witwidget --py --sys-prefix "
   ]
  },
  {
   "cell_type": "code",
   "execution_count": null,
   "metadata": {},
   "outputs": [],
   "source": [
    "!jupyter nbextension enable --py widgetsnbextension --sys-prefix\n",
    "  \n",
    "!jupyter nbextension install --py --symlink tensorflow_model_analysis --sys-prefix\n",
    "  \n",
    "!jupyter nbextension enable --py tensorflow_model_analysis --sys-prefix"
   ]
  },
  {
   "cell_type": "code",
   "execution_count": null,
   "metadata": {},
   "outputs": [],
   "source": [
    "!pip install widgetsnbextension"
   ]
  },
  {
   "cell_type": "code",
   "execution_count": null,
   "metadata": {},
   "outputs": [],
   "source": [
    "!pip install -U ipywidgets"
   ]
  },
  {
   "cell_type": "code",
   "execution_count": null,
   "metadata": {},
   "outputs": [],
   "source": [
    "!jupyter nbextension list"
   ]
  },
  {
   "cell_type": "code",
   "execution_count": null,
   "metadata": {},
   "outputs": [],
   "source": [
    "!jupyter serverextension list"
   ]
  }
 ],
 "metadata": {
  "kernelspec": {
   "display_name": "Python 3",
   "language": "python",
   "name": "python3"
  }
 },
 "nbformat": 4,
 "nbformat_minor": 4
}
